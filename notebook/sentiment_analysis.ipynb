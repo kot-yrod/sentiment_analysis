{
 "cells": [
  {
   "cell_type": "markdown",
   "id": "af150100-7c63-49bf-8cd9-878330e97efb",
   "metadata": {},
   "source": [
    "## Importing Libraries"
   ]
  },
  {
   "cell_type": "code",
   "execution_count": 1,
   "id": "eb1d2143-826a-468b-8ee8-413237024285",
   "metadata": {},
   "outputs": [],
   "source": [
    "# Import required libraries\n",
    "import torch\n",
    "import torch.nn as nn\n",
    "import torch.optim as optim\n",
    "import torch.nn.functional as F\n",
    "from torch.utils.data import Dataset\n",
    "from torch.utils.data import DataLoader\n",
    "import numpy as np\n",
    "import pandas as pd\n",
    "import seaborn as sns\n",
    "import matplotlib.pyplot as plt\n",
    "\n",
    "# Set Hugging Face cache directory\n",
    "import os\n",
    "os.environ[\"HF_HOME\"] = \"D:/pytorch_project/huggingface_cache\"\n",
    "import re\n",
    "from sklearn.model_selection import train_test_split\n",
    "from sklearn.metrics import precision_score, recall_score, f1_score, roc_auc_score, confusion_matrix\n",
    "from transformers import AutoTokenizer, AutoModelForSequenceClassification"
   ]
  },
  {
   "cell_type": "markdown",
   "id": "57f70ec0-3979-4aa5-ad3b-18b187a33f48",
   "metadata": {},
   "source": [
    "## Reading Data"
   ]
  },
  {
   "cell_type": "code",
   "execution_count": 2,
   "id": "8a7efcb4-eb44-48b2-8bfc-26accb72376d",
   "metadata": {},
   "outputs": [],
   "source": [
    "df = pd.read_csv('../data/training.1600000.processed.noemoticon.csv', encoding='ISO-8859-1', header=None)"
   ]
  },
  {
   "cell_type": "code",
   "execution_count": 3,
   "id": "65175ae2-c94d-4f4b-8785-58131b951cf8",
   "metadata": {},
   "outputs": [],
   "source": [
    "df, _ = train_test_split(df, train_size=10000, stratify=df[0], random_state=42)\n",
    "df = df.reset_index(drop=True)"
   ]
  },
  {
   "cell_type": "code",
   "execution_count": 4,
   "id": "8ab7f635-c18a-473b-9dfc-714a8fd5eb59",
   "metadata": {},
   "outputs": [
    {
     "data": {
      "text/html": [
       "<div>\n",
       "<style scoped>\n",
       "    .dataframe tbody tr th:only-of-type {\n",
       "        vertical-align: middle;\n",
       "    }\n",
       "\n",
       "    .dataframe tbody tr th {\n",
       "        vertical-align: top;\n",
       "    }\n",
       "\n",
       "    .dataframe thead th {\n",
       "        text-align: right;\n",
       "    }\n",
       "</style>\n",
       "<table border=\"1\" class=\"dataframe\">\n",
       "  <thead>\n",
       "    <tr style=\"text-align: right;\">\n",
       "      <th></th>\n",
       "      <th>0</th>\n",
       "      <th>1</th>\n",
       "      <th>2</th>\n",
       "      <th>3</th>\n",
       "      <th>4</th>\n",
       "      <th>5</th>\n",
       "    </tr>\n",
       "  </thead>\n",
       "  <tbody>\n",
       "    <tr>\n",
       "      <th>0</th>\n",
       "      <td>0</td>\n",
       "      <td>2186835492</td>\n",
       "      <td>Mon Jun 15 19:24:24 PDT 2009</td>\n",
       "      <td>NO_QUERY</td>\n",
       "      <td>AmayaLove</td>\n",
       "      <td>still sitting under the dryer, my neck hurts</td>\n",
       "    </tr>\n",
       "    <tr>\n",
       "      <th>1</th>\n",
       "      <td>4</td>\n",
       "      <td>2189647623</td>\n",
       "      <td>Tue Jun 16 00:32:41 PDT 2009</td>\n",
       "      <td>NO_QUERY</td>\n",
       "      <td>ronga</td>\n",
       "      <td>@sarahshah this is my nightmare (even tho i on...</td>\n",
       "    </tr>\n",
       "    <tr>\n",
       "      <th>2</th>\n",
       "      <td>0</td>\n",
       "      <td>1965889776</td>\n",
       "      <td>Fri May 29 16:43:56 PDT 2009</td>\n",
       "      <td>NO_QUERY</td>\n",
       "      <td>vvvracer</td>\n",
       "      <td>@mjvarela black is good... tight, or should I ...</td>\n",
       "    </tr>\n",
       "    <tr>\n",
       "      <th>3</th>\n",
       "      <td>0</td>\n",
       "      <td>2056256086</td>\n",
       "      <td>Sat Jun 06 10:48:45 PDT 2009</td>\n",
       "      <td>NO_QUERY</td>\n",
       "      <td>Kayerodriguez</td>\n",
       "      <td>Takes forever for everybody to get ready.</td>\n",
       "    </tr>\n",
       "    <tr>\n",
       "      <th>4</th>\n",
       "      <td>0</td>\n",
       "      <td>1564138266</td>\n",
       "      <td>Mon Apr 20 01:58:22 PDT 2009</td>\n",
       "      <td>NO_QUERY</td>\n",
       "      <td>besz</td>\n",
       "      <td>@Bklyncookie omg all the LA bad weather aura i...</td>\n",
       "    </tr>\n",
       "  </tbody>\n",
       "</table>\n",
       "</div>"
      ],
      "text/plain": [
       "   0           1                             2         3              4  \\\n",
       "0  0  2186835492  Mon Jun 15 19:24:24 PDT 2009  NO_QUERY      AmayaLove   \n",
       "1  4  2189647623  Tue Jun 16 00:32:41 PDT 2009  NO_QUERY          ronga   \n",
       "2  0  1965889776  Fri May 29 16:43:56 PDT 2009  NO_QUERY       vvvracer   \n",
       "3  0  2056256086  Sat Jun 06 10:48:45 PDT 2009  NO_QUERY  Kayerodriguez   \n",
       "4  0  1564138266  Mon Apr 20 01:58:22 PDT 2009  NO_QUERY           besz   \n",
       "\n",
       "                                                   5  \n",
       "0      still sitting under the dryer, my neck hurts   \n",
       "1  @sarahshah this is my nightmare (even tho i on...  \n",
       "2  @mjvarela black is good... tight, or should I ...  \n",
       "3         Takes forever for everybody to get ready.   \n",
       "4  @Bklyncookie omg all the LA bad weather aura i...  "
      ]
     },
     "execution_count": 4,
     "metadata": {},
     "output_type": "execute_result"
    }
   ],
   "source": [
    "df.head()"
   ]
  },
  {
   "cell_type": "code",
   "execution_count": 5,
   "id": "bdfeed3a-a2fb-4393-9fc5-0ec49bb3bd52",
   "metadata": {},
   "outputs": [
    {
     "data": {
      "text/plain": [
       "(10000, 6)"
      ]
     },
     "execution_count": 5,
     "metadata": {},
     "output_type": "execute_result"
    }
   ],
   "source": [
    "df.shape"
   ]
  },
  {
   "cell_type": "code",
   "execution_count": 6,
   "id": "386e3e7c-fd63-4270-a1ee-19ba7627fd66",
   "metadata": {},
   "outputs": [
    {
     "data": {
      "text/plain": [
       "0\n",
       "0    5000\n",
       "4    5000\n",
       "Name: count, dtype: int64"
      ]
     },
     "execution_count": 6,
     "metadata": {},
     "output_type": "execute_result"
    }
   ],
   "source": [
    "df[0].value_counts().sort_index()"
   ]
  },
  {
   "cell_type": "code",
   "execution_count": 7,
   "id": "a9b22c90-53a7-4d2c-a47c-9fe44483e9ab",
   "metadata": {},
   "outputs": [
    {
     "name": "stdout",
     "output_type": "stream",
     "text": [
      "<class 'pandas.core.frame.DataFrame'>\n",
      "RangeIndex: 10000 entries, 0 to 9999\n",
      "Data columns (total 6 columns):\n",
      " #   Column  Non-Null Count  Dtype \n",
      "---  ------  --------------  ----- \n",
      " 0   0       10000 non-null  int64 \n",
      " 1   1       10000 non-null  int64 \n",
      " 2   2       10000 non-null  object\n",
      " 3   3       10000 non-null  object\n",
      " 4   4       10000 non-null  object\n",
      " 5   5       10000 non-null  object\n",
      "dtypes: int64(2), object(4)\n",
      "memory usage: 468.9+ KB\n"
     ]
    }
   ],
   "source": [
    "df.info()"
   ]
  },
  {
   "cell_type": "code",
   "execution_count": 8,
   "id": "ab1f9257-b619-4b32-9bbc-71e320476af3",
   "metadata": {},
   "outputs": [
    {
     "data": {
      "text/html": [
       "<div>\n",
       "<style scoped>\n",
       "    .dataframe tbody tr th:only-of-type {\n",
       "        vertical-align: middle;\n",
       "    }\n",
       "\n",
       "    .dataframe tbody tr th {\n",
       "        vertical-align: top;\n",
       "    }\n",
       "\n",
       "    .dataframe thead th {\n",
       "        text-align: right;\n",
       "    }\n",
       "</style>\n",
       "<table border=\"1\" class=\"dataframe\">\n",
       "  <thead>\n",
       "    <tr style=\"text-align: right;\">\n",
       "      <th></th>\n",
       "      <th>0</th>\n",
       "      <th>1</th>\n",
       "    </tr>\n",
       "  </thead>\n",
       "  <tbody>\n",
       "    <tr>\n",
       "      <th>count</th>\n",
       "      <td>10000.0000</td>\n",
       "      <td>1.000000e+04</td>\n",
       "    </tr>\n",
       "    <tr>\n",
       "      <th>mean</th>\n",
       "      <td>2.0000</td>\n",
       "      <td>2.000397e+09</td>\n",
       "    </tr>\n",
       "    <tr>\n",
       "      <th>std</th>\n",
       "      <td>2.0001</td>\n",
       "      <td>1.929987e+08</td>\n",
       "    </tr>\n",
       "    <tr>\n",
       "      <th>min</th>\n",
       "      <td>0.0000</td>\n",
       "      <td>1.467824e+09</td>\n",
       "    </tr>\n",
       "    <tr>\n",
       "      <th>25%</th>\n",
       "      <td>0.0000</td>\n",
       "      <td>1.956695e+09</td>\n",
       "    </tr>\n",
       "    <tr>\n",
       "      <th>50%</th>\n",
       "      <td>2.0000</td>\n",
       "      <td>2.002857e+09</td>\n",
       "    </tr>\n",
       "    <tr>\n",
       "      <th>75%</th>\n",
       "      <td>4.0000</td>\n",
       "      <td>2.177858e+09</td>\n",
       "    </tr>\n",
       "    <tr>\n",
       "      <th>max</th>\n",
       "      <td>4.0000</td>\n",
       "      <td>2.329145e+09</td>\n",
       "    </tr>\n",
       "  </tbody>\n",
       "</table>\n",
       "</div>"
      ],
      "text/plain": [
       "                0             1\n",
       "count  10000.0000  1.000000e+04\n",
       "mean       2.0000  2.000397e+09\n",
       "std        2.0001  1.929987e+08\n",
       "min        0.0000  1.467824e+09\n",
       "25%        0.0000  1.956695e+09\n",
       "50%        2.0000  2.002857e+09\n",
       "75%        4.0000  2.177858e+09\n",
       "max        4.0000  2.329145e+09"
      ]
     },
     "execution_count": 8,
     "metadata": {},
     "output_type": "execute_result"
    }
   ],
   "source": [
    "df.describe()"
   ]
  },
  {
   "cell_type": "markdown",
   "id": "9ae55000-bd5e-429a-872b-d17eecfe037a",
   "metadata": {},
   "source": [
    "## Data Preprocessing and Cleaning"
   ]
  },
  {
   "cell_type": "code",
   "execution_count": 9,
   "id": "c9f5f344-6ad7-4766-98bc-9f3a05219368",
   "metadata": {},
   "outputs": [
    {
     "data": {
      "text/plain": [
       "np.int64(0)"
      ]
     },
     "execution_count": 9,
     "metadata": {},
     "output_type": "execute_result"
    }
   ],
   "source": [
    "df.isna().sum().sum()"
   ]
  },
  {
   "cell_type": "code",
   "execution_count": 10,
   "id": "a2aba7a1-7810-4e09-a1d8-a5511f5e3afc",
   "metadata": {},
   "outputs": [
    {
     "name": "stdout",
     "output_type": "stream",
     "text": [
      "Index([0, 1, 2, 3, 4, 5], dtype='int64')\n"
     ]
    }
   ],
   "source": [
    "print(df.columns)"
   ]
  },
  {
   "cell_type": "code",
   "execution_count": 11,
   "id": "0a94378b-2df7-4309-a8db-11b9e1d086e0",
   "metadata": {},
   "outputs": [
    {
     "data": {
      "text/plain": [
       "'Takes forever for everybody to get ready. '"
      ]
     },
     "execution_count": 11,
     "metadata": {},
     "output_type": "execute_result"
    }
   ],
   "source": [
    "df[5].iloc[3]"
   ]
  },
  {
   "cell_type": "code",
   "execution_count": 12,
   "id": "7ab9dff8-3972-47e3-9e45-b8c5f6f3f275",
   "metadata": {},
   "outputs": [],
   "source": [
    "df.drop(columns=[1, 2, 3, 4], inplace=True)"
   ]
  },
  {
   "cell_type": "code",
   "execution_count": 13,
   "id": "910e6979-d4fb-4c5a-9cf8-a2da231fc816",
   "metadata": {},
   "outputs": [],
   "source": [
    "df.columns = ['target', 'text']"
   ]
  },
  {
   "cell_type": "code",
   "execution_count": 14,
   "id": "dd56fb58-208e-4a45-a0c8-08d40235fe9b",
   "metadata": {},
   "outputs": [
    {
     "data": {
      "text/html": [
       "<div>\n",
       "<style scoped>\n",
       "    .dataframe tbody tr th:only-of-type {\n",
       "        vertical-align: middle;\n",
       "    }\n",
       "\n",
       "    .dataframe tbody tr th {\n",
       "        vertical-align: top;\n",
       "    }\n",
       "\n",
       "    .dataframe thead th {\n",
       "        text-align: right;\n",
       "    }\n",
       "</style>\n",
       "<table border=\"1\" class=\"dataframe\">\n",
       "  <thead>\n",
       "    <tr style=\"text-align: right;\">\n",
       "      <th></th>\n",
       "      <th>target</th>\n",
       "      <th>text</th>\n",
       "    </tr>\n",
       "  </thead>\n",
       "  <tbody>\n",
       "    <tr>\n",
       "      <th>0</th>\n",
       "      <td>0</td>\n",
       "      <td>still sitting under the dryer, my neck hurts</td>\n",
       "    </tr>\n",
       "    <tr>\n",
       "      <th>1</th>\n",
       "      <td>4</td>\n",
       "      <td>@sarahshah this is my nightmare (even tho i on...</td>\n",
       "    </tr>\n",
       "    <tr>\n",
       "      <th>2</th>\n",
       "      <td>0</td>\n",
       "      <td>@mjvarela black is good... tight, or should I ...</td>\n",
       "    </tr>\n",
       "    <tr>\n",
       "      <th>3</th>\n",
       "      <td>0</td>\n",
       "      <td>Takes forever for everybody to get ready.</td>\n",
       "    </tr>\n",
       "    <tr>\n",
       "      <th>4</th>\n",
       "      <td>0</td>\n",
       "      <td>@Bklyncookie omg all the LA bad weather aura i...</td>\n",
       "    </tr>\n",
       "  </tbody>\n",
       "</table>\n",
       "</div>"
      ],
      "text/plain": [
       "   target                                               text\n",
       "0       0      still sitting under the dryer, my neck hurts \n",
       "1       4  @sarahshah this is my nightmare (even tho i on...\n",
       "2       0  @mjvarela black is good... tight, or should I ...\n",
       "3       0         Takes forever for everybody to get ready. \n",
       "4       0  @Bklyncookie omg all the LA bad weather aura i..."
      ]
     },
     "execution_count": 14,
     "metadata": {},
     "output_type": "execute_result"
    }
   ],
   "source": [
    "df.head()"
   ]
  },
  {
   "cell_type": "code",
   "execution_count": 15,
   "id": "b6bae655-1a5f-48f2-bd59-fb60e5d1dc02",
   "metadata": {},
   "outputs": [
    {
     "data": {
      "text/plain": [
       "target\n",
       "0    5000\n",
       "4    5000\n",
       "Name: count, dtype: int64"
      ]
     },
     "execution_count": 15,
     "metadata": {},
     "output_type": "execute_result"
    }
   ],
   "source": [
    "df['target'].value_counts()"
   ]
  },
  {
   "cell_type": "code",
   "execution_count": 16,
   "id": "21e93c9c-233f-4600-8f05-d45bb23d8730",
   "metadata": {},
   "outputs": [
    {
     "data": {
      "text/plain": [
       "target\n",
       "0    5000\n",
       "1    5000\n",
       "Name: count, dtype: int64"
      ]
     },
     "execution_count": 16,
     "metadata": {},
     "output_type": "execute_result"
    }
   ],
   "source": [
    "df['target'] = df['target'].map({0: 0, 4: 1})\n",
    "df['target'].value_counts()"
   ]
  },
  {
   "cell_type": "markdown",
   "id": "bde3d3d6-1716-4e5d-8828-3c7d3c8c4cf6",
   "metadata": {},
   "source": [
    "## Clean text function"
   ]
  },
  {
   "cell_type": "code",
   "execution_count": null,
   "id": "61e4580e-c83c-454c-8b42-401ec2294cec",
   "metadata": {},
   "outputs": [],
   "source": [
    "def clean_text(text):\n",
    "    text = re.sub(r\"http\\S+|www\\S+\", '', text)  # Remove URLs\n",
    "    text = re.sub(r'\\@\\w+|\\#', '', text)        # Remove mentions and hashtags\n",
    "    text = re.sub(r'\\s+', ' ', text).strip()    # Remove extra whitespaces\n",
    "    return text"
   ]
  },
  {
   "cell_type": "code",
   "execution_count": 18,
   "id": "0cc99ec1-268d-44e2-a8c8-ccb51600f05e",
   "metadata": {},
   "outputs": [],
   "source": [
    "df['text'] = df['text'].apply(clean_text)"
   ]
  },
  {
   "cell_type": "code",
   "execution_count": 19,
   "id": "8a46f6fa-6589-4950-b436-79b1e9e3621c",
   "metadata": {},
   "outputs": [
    {
     "data": {
      "text/plain": [
       "'Takes forever for everybody to get ready.'"
      ]
     },
     "execution_count": 19,
     "metadata": {},
     "output_type": "execute_result"
    }
   ],
   "source": [
    "df['text'][3]"
   ]
  },
  {
   "cell_type": "code",
   "execution_count": 20,
   "id": "2e45a77a-0154-4fb7-b9c4-0081afe31d3a",
   "metadata": {},
   "outputs": [
    {
     "data": {
      "text/html": [
       "<div>\n",
       "<style scoped>\n",
       "    .dataframe tbody tr th:only-of-type {\n",
       "        vertical-align: middle;\n",
       "    }\n",
       "\n",
       "    .dataframe tbody tr th {\n",
       "        vertical-align: top;\n",
       "    }\n",
       "\n",
       "    .dataframe thead th {\n",
       "        text-align: right;\n",
       "    }\n",
       "</style>\n",
       "<table border=\"1\" class=\"dataframe\">\n",
       "  <thead>\n",
       "    <tr style=\"text-align: right;\">\n",
       "      <th></th>\n",
       "      <th>target</th>\n",
       "      <th>text</th>\n",
       "    </tr>\n",
       "  </thead>\n",
       "  <tbody>\n",
       "    <tr>\n",
       "      <th>0</th>\n",
       "      <td>0</td>\n",
       "      <td>still sitting under the dryer, my neck hurts</td>\n",
       "    </tr>\n",
       "    <tr>\n",
       "      <th>1</th>\n",
       "      <td>1</td>\n",
       "      <td>this is my nightmare (even tho i only have 3 p...</td>\n",
       "    </tr>\n",
       "    <tr>\n",
       "      <th>2</th>\n",
       "      <td>0</td>\n",
       "      <td>black is good... tight, or should I say too ti...</td>\n",
       "    </tr>\n",
       "    <tr>\n",
       "      <th>3</th>\n",
       "      <td>0</td>\n",
       "      <td>Takes forever for everybody to get ready.</td>\n",
       "    </tr>\n",
       "    <tr>\n",
       "      <th>4</th>\n",
       "      <td>0</td>\n",
       "      <td>omg all the LA bad weather aura is trickling i...</td>\n",
       "    </tr>\n",
       "  </tbody>\n",
       "</table>\n",
       "</div>"
      ],
      "text/plain": [
       "   target                                               text\n",
       "0       0       still sitting under the dryer, my neck hurts\n",
       "1       1  this is my nightmare (even tho i only have 3 p...\n",
       "2       0  black is good... tight, or should I say too ti...\n",
       "3       0          Takes forever for everybody to get ready.\n",
       "4       0  omg all the LA bad weather aura is trickling i..."
      ]
     },
     "execution_count": 20,
     "metadata": {},
     "output_type": "execute_result"
    }
   ],
   "source": [
    "df.head()"
   ]
  },
  {
   "cell_type": "code",
   "execution_count": 21,
   "id": "6fd24672-b6e1-4073-9aef-d0a17f4ab9d6",
   "metadata": {},
   "outputs": [],
   "source": [
    "X = df.drop('target', axis=1)\n",
    "y = df['target']"
   ]
  },
  {
   "cell_type": "markdown",
   "id": "2a671446-657d-42b6-b7a5-794b0409b686",
   "metadata": {},
   "source": [
    "## Train/validation/test split"
   ]
  },
  {
   "cell_type": "code",
   "execution_count": 22,
   "id": "5a6588ea-4ab1-4524-b725-e49b38a50bf2",
   "metadata": {},
   "outputs": [],
   "source": [
    "X_train, X_temp, y_train, y_temp = train_test_split(\n",
    "    X, y, test_size=0.4, stratify=y, random_state=42\n",
    ")\n",
    "\n",
    "X_val, X_test, y_val, y_test = train_test_split(\n",
    "    X_temp, y_temp, test_size=0.5, stratify=y_temp, random_state=42\n",
    ")"
   ]
  },
  {
   "cell_type": "markdown",
   "id": "070e0e25-67a3-4e85-8570-654d9628ea04",
   "metadata": {},
   "source": [
    "## Load tokenizer"
   ]
  },
  {
   "cell_type": "code",
   "execution_count": 23,
   "id": "62972228-e49b-4170-87ff-ec51d6f390b2",
   "metadata": {
    "scrolled": true
   },
   "outputs": [],
   "source": [
    "tokenizer = AutoTokenizer.from_pretrained(\"distilbert-base-uncased\")"
   ]
  },
  {
   "cell_type": "markdown",
   "id": "0ea40a61-044c-4024-91fd-c921dbd277cf",
   "metadata": {},
   "source": [
    "## Define custom dataset"
   ]
  },
  {
   "cell_type": "code",
   "execution_count": 24,
   "id": "6e977a7a-1db0-456a-a830-bb911e547449",
   "metadata": {},
   "outputs": [],
   "source": [
    "class SentimentDataset(Dataset):\n",
    "    def __init__(self, texts, labels, tokenizer, max_length=128):\n",
    "        self.texts = texts\n",
    "        self.labels = labels\n",
    "        self.tokenizer = tokenizer\n",
    "        self.max_length = max_length\n",
    "\n",
    "    def __len__(self):\n",
    "        return len(self.texts)\n",
    "\n",
    "    def __getitem__(self, idx):\n",
    "        encoding = self.tokenizer(\n",
    "            self.texts[idx],\n",
    "            truncation=True,\n",
    "            padding='max_length',\n",
    "            max_length=self.max_length,\n",
    "            return_tensors='pt'\n",
    "        )\n",
    "        return {\n",
    "            'input_ids': encoding['input_ids'].squeeze(),\n",
    "            'attention_mask': encoding['attention_mask'].squeeze(),\n",
    "            'labels': torch.tensor(self.labels[idx], dtype=torch.long)\n",
    "        }"
   ]
  },
  {
   "cell_type": "code",
   "execution_count": 25,
   "id": "6486c80d-38ae-4898-82c8-74e73fe6f58d",
   "metadata": {},
   "outputs": [],
   "source": [
    "X_train = X_train.reset_index(drop=True)\n",
    "X_val = X_val.reset_index(drop=True)\n",
    "X_test = X_test.reset_index(drop=True)\n",
    "\n",
    "y_train = y_train.reset_index(drop=True)\n",
    "y_val = y_val.reset_index(drop=True)\n",
    "y_test = y_test.reset_index(drop=True)"
   ]
  },
  {
   "cell_type": "markdown",
   "id": "d1da192a-5460-4a83-bc05-89378a028ab0",
   "metadata": {},
   "source": [
    "## Create datasets and dataloaders"
   ]
  },
  {
   "cell_type": "code",
   "execution_count": 26,
   "id": "c3b581a4-2ea1-4e99-956d-fb290bd449ff",
   "metadata": {},
   "outputs": [],
   "source": [
    "train_dataset = SentimentDataset(X_train['text'], y_train.tolist(), tokenizer)\n",
    "val_dataset = SentimentDataset(X_val['text'], y_val.tolist(), tokenizer)\n",
    "test_dataset = SentimentDataset(X_test['text'], y_test.tolist(), tokenizer)"
   ]
  },
  {
   "cell_type": "code",
   "execution_count": 27,
   "id": "f5328ac6-c3fa-4331-973c-7054ee616467",
   "metadata": {},
   "outputs": [],
   "source": [
    "train_loader = DataLoader(train_dataset, batch_size=32, shuffle=True)\n",
    "val_loader = DataLoader(val_dataset, batch_size=32)\n",
    "test_loader = DataLoader(test_dataset, batch_size=32)"
   ]
  },
  {
   "cell_type": "markdown",
   "id": "db16308b-0b36-48cc-8b1c-e4ae364b7013",
   "metadata": {},
   "source": [
    "## Load model"
   ]
  },
  {
   "cell_type": "code",
   "execution_count": 28,
   "id": "0e84cac0-ae63-49b6-81ad-094842f90925",
   "metadata": {},
   "outputs": [
    {
     "name": "stderr",
     "output_type": "stream",
     "text": [
      "Some weights of DistilBertForSequenceClassification were not initialized from the model checkpoint at distilbert-base-uncased and are newly initialized: ['classifier.bias', 'classifier.weight', 'pre_classifier.bias', 'pre_classifier.weight']\n",
      "You should probably TRAIN this model on a down-stream task to be able to use it for predictions and inference.\n"
     ]
    }
   ],
   "source": [
    "device = torch.device(\"cuda\" if torch.cuda.is_available() else \"cpu\")\n",
    "\n",
    "model = AutoModelForSequenceClassification.from_pretrained(\n",
    "    \"distilbert-base-uncased\",\n",
    "    num_labels=2\n",
    ").to(device)\n",
    "optimizer = optim.Adam(model.parameters(), lr=0.000002)"
   ]
  },
  {
   "cell_type": "markdown",
   "id": "c21ef685-3f00-4d5a-8f04-bc32520ef4e2",
   "metadata": {},
   "source": [
    "## Training and validation loop"
   ]
  },
  {
   "cell_type": "code",
   "execution_count": null,
   "id": "55f950c7-1c99-413b-a42b-8c6e06c3dac1",
   "metadata": {},
   "outputs": [
    {
     "name": "stdout",
     "output_type": "stream",
     "text": [
      "\n",
      "Epoch 1/7\n",
      "[20/188] Batch Loss: 0.6935 | Running Accuracy: 0.4734\n",
      "[40/188] Batch Loss: 0.6884 | Running Accuracy: 0.4695\n",
      "[60/188] Batch Loss: 0.6934 | Running Accuracy: 0.4781\n",
      "[80/188] Batch Loss: 0.7043 | Running Accuracy: 0.4961\n",
      "[100/188] Batch Loss: 0.6930 | Running Accuracy: 0.5175\n",
      "[120/188] Batch Loss: 0.6670 | Running Accuracy: 0.5292\n",
      "[140/188] Batch Loss: 0.6587 | Running Accuracy: 0.5446\n",
      "[160/188] Batch Loss: 0.6872 | Running Accuracy: 0.5541\n",
      "[180/188] Batch Loss: 0.6827 | Running Accuracy: 0.5639\n",
      "[188/188] Batch Loss: 0.6439 | Running Accuracy: 0.5680\n",
      "\n",
      "[Epoch 1] Train Loss: 0.6842, Accuracy: 0.5680\n",
      "[Epoch 1] Val   Loss: 0.6469, Accuracy: 0.7175\n",
      "✅ Model saved (val_loss improved to 0.6469)\n",
      "\n",
      "Epoch 2/7\n",
      "[20/188] Batch Loss: 0.6387 | Running Accuracy: 0.6672\n",
      "[40/188] Batch Loss: 0.6243 | Running Accuracy: 0.6922\n",
      "[60/188] Batch Loss: 0.5598 | Running Accuracy: 0.7063\n",
      "[80/188] Batch Loss: 0.5983 | Running Accuracy: 0.7148\n",
      "[100/188] Batch Loss: 0.5365 | Running Accuracy: 0.7225\n",
      "[120/188] Batch Loss: 0.4514 | Running Accuracy: 0.7326\n",
      "[140/188] Batch Loss: 0.5800 | Running Accuracy: 0.7373\n",
      "[160/188] Batch Loss: 0.4670 | Running Accuracy: 0.7414\n",
      "[180/188] Batch Loss: 0.5635 | Running Accuracy: 0.7427\n",
      "[188/188] Batch Loss: 0.3714 | Running Accuracy: 0.7457\n",
      "\n",
      "[Epoch 2] Train Loss: 0.5531, Accuracy: 0.7457\n",
      "[Epoch 2] Val   Loss: 0.4732, Accuracy: 0.7850\n",
      "✅ Model saved (val_loss improved to 0.4732)\n",
      "\n",
      "Epoch 3/7\n",
      "[20/188] Batch Loss: 0.4370 | Running Accuracy: 0.7844\n",
      "[40/188] Batch Loss: 0.5333 | Running Accuracy: 0.8055\n",
      "[60/188] Batch Loss: 0.4450 | Running Accuracy: 0.7964\n",
      "[80/188] Batch Loss: 0.4212 | Running Accuracy: 0.7957\n",
      "[100/188] Batch Loss: 0.5847 | Running Accuracy: 0.7891\n",
      "[120/188] Batch Loss: 0.5766 | Running Accuracy: 0.7896\n",
      "[140/188] Batch Loss: 0.4947 | Running Accuracy: 0.7920\n",
      "[160/188] Batch Loss: 0.4744 | Running Accuracy: 0.7900\n",
      "[180/188] Batch Loss: 0.5080 | Running Accuracy: 0.7910\n",
      "[188/188] Batch Loss: 0.5125 | Running Accuracy: 0.7908\n",
      "\n",
      "[Epoch 3] Train Loss: 0.4590, Accuracy: 0.7908\n",
      "[Epoch 3] Val   Loss: 0.4438, Accuracy: 0.7915\n",
      "✅ Model saved (val_loss improved to 0.4438)\n",
      "\n",
      "Epoch 4/7\n",
      "[20/188] Batch Loss: 0.4163 | Running Accuracy: 0.8078\n",
      "[40/188] Batch Loss: 0.5478 | Running Accuracy: 0.8094\n",
      "[60/188] Batch Loss: 0.2648 | Running Accuracy: 0.8130\n",
      "[80/188] Batch Loss: 0.3434 | Running Accuracy: 0.8145\n",
      "[100/188] Batch Loss: 0.3495 | Running Accuracy: 0.8141\n",
      "[120/188] Batch Loss: 0.2787 | Running Accuracy: 0.8141\n",
      "[140/188] Batch Loss: 0.4185 | Running Accuracy: 0.8132\n",
      "[160/188] Batch Loss: 0.4091 | Running Accuracy: 0.8109\n",
      "[180/188] Batch Loss: 0.2953 | Running Accuracy: 0.8109\n",
      "[188/188] Batch Loss: 0.3041 | Running Accuracy: 0.8110\n",
      "\n",
      "[Epoch 4] Train Loss: 0.4166, Accuracy: 0.8110\n",
      "[Epoch 4] Val   Loss: 0.4335, Accuracy: 0.8040\n",
      "✅ Model saved (val_loss improved to 0.4335)\n",
      "\n",
      "Epoch 5/7\n",
      "[20/188] Batch Loss: 0.6058 | Running Accuracy: 0.8250\n",
      "[40/188] Batch Loss: 0.4117 | Running Accuracy: 0.8258\n",
      "[60/188] Batch Loss: 0.5224 | Running Accuracy: 0.8260\n",
      "[80/188] Batch Loss: 0.3720 | Running Accuracy: 0.8340\n",
      "[100/188] Batch Loss: 0.3122 | Running Accuracy: 0.8356\n",
      "[120/188] Batch Loss: 0.4658 | Running Accuracy: 0.8365\n",
      "[140/188] Batch Loss: 0.1775 | Running Accuracy: 0.8355\n",
      "[160/188] Batch Loss: 0.4234 | Running Accuracy: 0.8326\n",
      "[180/188] Batch Loss: 0.3199 | Running Accuracy: 0.8319\n",
      "[188/188] Batch Loss: 0.3670 | Running Accuracy: 0.8308\n",
      "\n",
      "[Epoch 5] Train Loss: 0.3922, Accuracy: 0.8308\n",
      "[Epoch 5] Val   Loss: 0.4294, Accuracy: 0.8080\n",
      "✅ Model saved (val_loss improved to 0.4294)\n",
      "\n",
      "Epoch 6/7\n",
      "[20/188] Batch Loss: 0.2770 | Running Accuracy: 0.8438\n",
      "[40/188] Batch Loss: 0.3892 | Running Accuracy: 0.8414\n",
      "[60/188] Batch Loss: 0.6758 | Running Accuracy: 0.8354\n",
      "[80/188] Batch Loss: 0.3281 | Running Accuracy: 0.8375\n",
      "[100/188] Batch Loss: 0.3158 | Running Accuracy: 0.8375\n",
      "[120/188] Batch Loss: 0.4204 | Running Accuracy: 0.8396\n",
      "[140/188] Batch Loss: 0.4261 | Running Accuracy: 0.8404\n",
      "[160/188] Batch Loss: 0.2664 | Running Accuracy: 0.8418\n",
      "[180/188] Batch Loss: 0.3750 | Running Accuracy: 0.8403\n",
      "[188/188] Batch Loss: 0.4081 | Running Accuracy: 0.8410\n",
      "\n",
      "[Epoch 6] Train Loss: 0.3681, Accuracy: 0.8410\n",
      "[Epoch 6] Val   Loss: 0.4328, Accuracy: 0.8155\n",
      "⏳ No improvement in val_loss for 1 epoch(s)\n",
      "⛔ Early stopping triggered after 1 epochs without improvement.\n"
     ]
    }
   ],
   "source": [
    "train_losses = []\n",
    "val_losses = []\n",
    "train_accuracies = []\n",
    "val_accuracies = []\n",
    "\n",
    "best_val_loss = float('inf')\n",
    "patience = 1\n",
    "counter = 0\n",
    "best_model_path = '../my_model/'\n",
    "\n",
    "epochs = 7\n",
    "    \n",
    "for epoch in range(epochs):\n",
    "    model.train()\n",
    "    total_loss = 0\n",
    "    correct = 0\n",
    "    total = 0\n",
    "    total_steps = len(train_loader)\n",
    "\n",
    "    print(f\"\\nEpoch {epoch + 1}/{epochs}\")\n",
    "\n",
    "    for step, batch in enumerate(train_loader):\n",
    "        input_ids = batch['input_ids'].to(device)\n",
    "        attention_mask = batch['attention_mask'].to(device)\n",
    "        labels = batch['labels'].to(device)\n",
    "\n",
    "        optimizer.zero_grad()\n",
    "        outputs = model(input_ids=input_ids, attention_mask=attention_mask, labels=labels)\n",
    "        loss = outputs.loss\n",
    "        loss.backward()\n",
    "        optimizer.step()\n",
    "\n",
    "        total_loss += loss.item()\n",
    "        logits = outputs.logits\n",
    "        preds = torch.argmax(logits, dim=1)\n",
    "        correct += (preds == labels).sum().item()\n",
    "        total += labels.size(0)\n",
    "\n",
    "        # Training Progress (per batch)\n",
    "        if (step + 1) % 20 == 0 or (step + 1) == total_steps:\n",
    "            print(f\"[{step + 1}/{total_steps}] Batch Loss: {loss.item():.4f} | Running Accuracy: {correct / total:.4f}\")\n",
    "\n",
    "         # Train metrics for epoch\n",
    "    avg_train_loss = total_loss / total_steps\n",
    "    train_accuracy = correct / total\n",
    "    train_losses.append(avg_train_loss)\n",
    "    train_accuracies.append(train_accuracy)\n",
    "\n",
    "    # Validation\n",
    "    model.eval()\n",
    "    val_loss = 0\n",
    "    val_correct = 0\n",
    "    val_total = 0\n",
    "\n",
    "\n",
    "    with torch.no_grad():\n",
    "        for batch in val_loader:\n",
    "            inputs = batch['input_ids'].to(device)\n",
    "            attention_mask = batch['attention_mask'].to(device)\n",
    "            labels = batch['labels'].to(device)\n",
    "\n",
    "            outputs = model(input_ids=inputs, attention_mask=attention_mask, labels=labels)\n",
    "            loss = outputs.loss\n",
    "            logits = outputs.logits\n",
    "\n",
    "            val_loss += loss.item()\n",
    "            preds = torch.argmax(logits, dim=1)\n",
    "            val_correct += (preds == labels).sum().item()\n",
    "            val_total += labels.size(0)\n",
    "\n",
    "    avg_val_loss = val_loss / len(val_loader)\n",
    "    val_accuracy = val_correct / val_total\n",
    "    val_losses.append(avg_val_loss)\n",
    "    val_accuracies.append(val_accuracy)\n",
    "\n",
    "    print(f\"\\n[Epoch {epoch + 1}] Train Loss: {avg_train_loss:.4f}, Accuracy: {train_accuracy:.4f}\")\n",
    "    print(f\"[Epoch {epoch + 1}] Val   Loss: {avg_val_loss:.4f}, Accuracy: {val_accuracy:.4f}\")\n",
    "\n",
    "    # Saving the best model\n",
    "    if avg_val_loss < best_val_loss:\n",
    "        best_val_loss = avg_val_loss\n",
    "        model.save_pretrained(best_model_path)\n",
    "        print(f\"✅ Model saved (val_loss improved to {best_val_loss:.4f})\")\n",
    "        counter = 0\n",
    "    else:\n",
    "        counter += 1\n",
    "        print(f\"⏳ No improvement in val_loss for {counter} epoch(s)\")\n",
    "\n",
    "        if counter >= patience:\n",
    "            print(f\"⛔ Early stopping triggered after {patience} epochs without improvement.\")\n",
    "            break"
   ]
  },
  {
   "cell_type": "markdown",
   "id": "9ac75fd7-6970-4b68-a67b-8accb1616d76",
   "metadata": {},
   "source": [
    "## 📈 Model Performance during Training"
   ]
  },
  {
   "cell_type": "code",
   "execution_count": 31,
   "id": "838fd2f4-cec7-4dc9-9b66-5e08a9f93db7",
   "metadata": {},
   "outputs": [
    {
     "data": {
      "image/png": "[encoded data removed]",
      "text/plain": [
       "<Figure size 1200x600 with 2 Axes>"
      ]
     },
     "metadata": {},
     "output_type": "display_data"
    }
   ],
   "source": [
    "plt.figure(figsize=(12, 6))\n",
    "\n",
    "# Loss\n",
    "plt.subplot(1, 2, 1)\n",
    "plt.plot(train_losses, label='Train Loss')\n",
    "plt.plot(val_losses, label='Val Loss')\n",
    "plt.title('Loss per Epoch')\n",
    "plt.xlabel('Epoch')\n",
    "plt.ylabel('Loss')\n",
    "plt.legend()\n",
    "\n",
    "# Accuracy\n",
    "plt.subplot(1, 2, 2)\n",
    "plt.plot(train_accuracies, label='Train Accuracy')\n",
    "plt.plot(val_accuracies, label='Val Accuracy')\n",
    "plt.title('Accuracy per Epoch')\n",
    "plt.xlabel('Epoch')\n",
    "plt.ylabel('Accuracy')\n",
    "plt.legend()\n",
    "\n",
    "plt.tight_layout()\n",
    "plt.show()"
   ]
  },
  {
   "cell_type": "code",
   "execution_count": null,
   "id": "144486fe-7a61-4a8a-93b0-5b89a3135062",
   "metadata": {},
   "outputs": [
    {
     "name": "stdout",
     "output_type": "stream",
     "text": [
      "\n",
      "Test Loss: 0.4315\n",
      "Test Accuracy: 0.8045\n",
      "Precision: 0.8024\n",
      "Recall:    0.8080\n",
      "F1 Score:  0.8052\n",
      "ROC AUC:   0.8837\n"
     ]
    }
   ],
   "source": [
    "model.eval()\n",
    "test_loss = 0\n",
    "test_correct = 0\n",
    "test_total = 0\n",
    "\n",
    "all_preds = []\n",
    "all_labels = []\n",
    "all_probs = []\n",
    "\n",
    "# Load the best model before testing\n",
    "model.load_state_dict(torch.load(best_model_path))\n",
    "model.eval()\n",
    "\n",
    "with torch.no_grad():\n",
    "    for batch in test_loader:\n",
    "        input_ids = batch['input_ids'].to(device)\n",
    "        attention_mask = batch['attention_mask'].to(device)\n",
    "        labels = batch['labels'].to(device)\n",
    "\n",
    "        outputs = model(input_ids=input_ids, attention_mask=attention_mask, labels=labels)\n",
    "        loss = outputs.loss\n",
    "        logits = outputs.logits\n",
    "\n",
    "        test_loss += loss.item()\n",
    "        probs = torch.softmax(logits, dim=1)\n",
    "        preds = torch.argmax(probs, dim=1)\n",
    "\n",
    "        all_preds.extend(preds.cpu().numpy())\n",
    "        all_labels.extend(labels.cpu().numpy())\n",
    "        all_probs.extend(probs[:, 1].cpu().numpy())\n",
    "\n",
    "        test_correct += (preds == labels).sum().item()\n",
    "        test_total += labels.size(0)\n",
    "\n",
    "avg_test_loss = test_loss / len(test_loader)\n",
    "test_accuracy = test_correct / test_total\n",
    "\n",
    "precision = precision_score(all_labels, all_preds, average='binary')\n",
    "recall = recall_score(all_labels, all_preds, average='binary')\n",
    "f1 = f1_score(all_labels, all_preds, average='binary')\n",
    "roc_auc = roc_auc_score(all_labels, all_probs)\n",
    "\n",
    "\n",
    "print(f\"\\nTest Loss: {avg_test_loss:.4f}\")\n",
    "print(f\"Test Accuracy: {test_accuracy:.4f}\")\n",
    "print(f\"Precision: {precision:.4f}\")\n",
    "print(f\"Recall:    {recall:.4f}\")\n",
    "print(f\"F1 Score:  {f1:.4f}\")\n",
    "print(f\"ROC AUC:   {roc_auc:.4f}\")"
   ]
  },
  {
   "cell_type": "markdown",
   "id": "8177b441-37c5-4a83-999b-0cccd505c295",
   "metadata": {},
   "source": [
    "## Confusion Matrix"
   ]
  },
  {
   "cell_type": "code",
   "execution_count": 33,
   "id": "fe763c82-a383-4963-8fa4-d1cf594a362a",
   "metadata": {},
   "outputs": [
    {
     "data": {
      "image/png": "[encoded data removed]",
      "text/plain": [
       "<Figure size 600x500 with 2 Axes>"
      ]
     },
     "metadata": {},
     "output_type": "display_data"
    }
   ],
   "source": [
    "cm = confusion_matrix(all_labels, all_preds)\n",
    "\n",
    "plt.figure(figsize=(6, 5))\n",
    "sns.heatmap(cm, annot=True, fmt='d', cmap='Blues')\n",
    "plt.xlabel('Predicted Labels')\n",
    "plt.ylabel('True Labels')\n",
    "plt.title('Confusion Matrix')\n",
    "plt.tight_layout()\n",
    "plt.show()"
   ]
  },
  {
   "cell_type": "code",
   "execution_count": 34,
   "id": "d8141bc3-3f06-4c17-869d-9ae79ff2fb67",
   "metadata": {},
   "outputs": [],
   "source": [
    "def predict_sentiment(text):\n",
    "    model.eval()\n",
    "\n",
    "\n",
    "    def clean_text(text):\n",
    "        text = re.sub(r\"http\\S+|www\\S+\", '', text)\n",
    "        text = re.sub(r'\\@\\w+|\\#', '', text)\n",
    "        text = re.sub(r'\\s+', ' ', text).strip()\n",
    "        return text\n",
    "\n",
    "    cleaned_text = clean_text(text)\n",
    "\n",
    "\n",
    "    inputs = tokenizer(cleaned_text, return_tensors='pt', truncation=True, padding='max_length', max_length=128)\n",
    "    inputs = {key: val.to(device) for key, val in inputs.items()}\n",
    "\n",
    "\n",
    "    with torch.no_grad():\n",
    "        outputs = model(**inputs)\n",
    "        logits = outputs.logits\n",
    "        predicted_class = torch.argmax(logits, dim=1).item()\n",
    "        confidence = F.softmax(logits, dim=1)[0][predicted_class].item()\n",
    "\n",
    "    label = \"Positive 😊\" if predicted_class == 1 else \"Negative 😠\"\n",
    "    return label, confidence"
   ]
  },
  {
   "cell_type": "code",
   "execution_count": 35,
   "id": "cdcb1b09-bdcb-4488-a721-e70cde5b0429",
   "metadata": {},
   "outputs": [
    {
     "name": "stdout",
     "output_type": "stream",
     "text": [
      "Prediction: Positive 😊 (Confidence: 0.93)\n"
     ]
    }
   ],
   "source": [
    "text = \"on this week i'll cook cake\"\n",
    "label, conf = predict_sentiment(text)\n",
    "print(f\"Prediction: {label} (Confidence: {conf:.2f})\")"
   ]
  }
 ],
 "metadata": {
  "kernelspec": {
   "display_name": "Python (venv_pytorch)",
   "language": "python",
   "name": "venv_pytorch"
  },
  "language_info": {
   "codemirror_mode": {
    "name": "ipython",
    "version": 3
   },
   "file_extension": ".py",
   "mimetype": "text/x-python",
   "name": "python",
   "nbconvert_exporter": "python",
   "pygments_lexer": "ipython3",
   "version": "3.13.2"
  }
 },
 "nbformat": 4,
 "nbformat_minor": 5
}

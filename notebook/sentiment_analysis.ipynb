{
 "cells": [
  {
   "cell_type": "markdown",
   "id": "af150100-7c63-49bf-8cd9-878330e97efb",
   "metadata": {},
   "source": [
    "## Importing Libraries"
   ]
  },
  {
   "cell_type": "code",
   "execution_count": 1,
   "id": "eb1d2143-826a-468b-8ee8-413237024285",
   "metadata": {},
   "outputs": [],
   "source": [
    "# Import required libraries\n",
    "import torch\n",
    "import torch.nn as nn\n",
    "import torch.optim as optim\n",
    "import torch.nn.functional as F\n",
    "from torch.utils.data import Dataset\n",
    "from torch.utils.data import DataLoader\n",
    "import numpy as np\n",
    "import pandas as pd\n",
    "import seaborn as sns\n",
    "import matplotlib.pyplot as plt\n",
    "\n",
    "# Set Hugging Face cache directory\n",
    "import os\n",
    "os.environ[\"HF_HOME\"] = \"D:/pytorch_project/huggingface_cache\"\n",
    "import re\n",
    "from sklearn.model_selection import train_test_split\n",
    "from sklearn.metrics import precision_score, recall_score, f1_score, roc_auc_score, confusion_matrix\n",
    "from transformers import AutoTokenizer, AutoModelForSequenceClassification"
   ]
  },
  {
   "cell_type": "markdown",
   "id": "57f70ec0-3979-4aa5-ad3b-18b187a33f48",
   "metadata": {},
   "source": [
    "## Reading Data"
   ]
  },
  {
   "cell_type": "code",
   "execution_count": 2,
   "id": "8a7efcb4-eb44-48b2-8bfc-26accb72376d",
   "metadata": {},
   "outputs": [],
   "source": [
    "df = pd.read_csv('../data/training.1600000.processed.noemoticon.csv', encoding='ISO-8859-1', header=None)"
   ]
  },
  {
   "cell_type": "code",
   "execution_count": 3,
   "id": "65175ae2-c94d-4f4b-8785-58131b951cf8",
   "metadata": {},
   "outputs": [],
   "source": [
    "df, _ = train_test_split(df, train_size=20000, stratify=df[0], random_state=42)\n",
    "df = df.reset_index(drop=True)"
   ]
  },
  {
   "cell_type": "code",
   "execution_count": 4,
   "id": "8ab7f635-c18a-473b-9dfc-714a8fd5eb59",
   "metadata": {},
   "outputs": [
    {
     "data": {
      "text/html": [
       "<div>\n",
       "<style scoped>\n",
       "    .dataframe tbody tr th:only-of-type {\n",
       "        vertical-align: middle;\n",
       "    }\n",
       "\n",
       "    .dataframe tbody tr th {\n",
       "        vertical-align: top;\n",
       "    }\n",
       "\n",
       "    .dataframe thead th {\n",
       "        text-align: right;\n",
       "    }\n",
       "</style>\n",
       "<table border=\"1\" class=\"dataframe\">\n",
       "  <thead>\n",
       "    <tr style=\"text-align: right;\">\n",
       "      <th></th>\n",
       "      <th>0</th>\n",
       "      <th>1</th>\n",
       "      <th>2</th>\n",
       "      <th>3</th>\n",
       "      <th>4</th>\n",
       "      <th>5</th>\n",
       "    </tr>\n",
       "  </thead>\n",
       "  <tbody>\n",
       "    <tr>\n",
       "      <th>0</th>\n",
       "      <td>0</td>\n",
       "      <td>1985165238</td>\n",
       "      <td>Sun May 31 16:33:48 PDT 2009</td>\n",
       "      <td>NO_QUERY</td>\n",
       "      <td>nikkistarshine</td>\n",
       "      <td>There is this sweater that I had all of freshm...</td>\n",
       "    </tr>\n",
       "    <tr>\n",
       "      <th>1</th>\n",
       "      <td>0</td>\n",
       "      <td>2016276574</td>\n",
       "      <td>Wed Jun 03 06:29:43 PDT 2009</td>\n",
       "      <td>NO_QUERY</td>\n",
       "      <td>livewire89</td>\n",
       "      <td>@mel161278 - hey hun, I'm good hows you? I'm s...</td>\n",
       "    </tr>\n",
       "    <tr>\n",
       "      <th>2</th>\n",
       "      <td>0</td>\n",
       "      <td>2250106772</td>\n",
       "      <td>Fri Jun 19 23:43:10 PDT 2009</td>\n",
       "      <td>NO_QUERY</td>\n",
       "      <td>siaan</td>\n",
       "      <td>@redvers he never cried thru pain but he was c...</td>\n",
       "    </tr>\n",
       "    <tr>\n",
       "      <th>3</th>\n",
       "      <td>4</td>\n",
       "      <td>2062786014</td>\n",
       "      <td>Sun Jun 07 00:17:35 PDT 2009</td>\n",
       "      <td>NO_QUERY</td>\n",
       "      <td>justinstanford</td>\n",
       "      <td>FireID finally launches in the Apple iPhone Ap...</td>\n",
       "    </tr>\n",
       "    <tr>\n",
       "      <th>4</th>\n",
       "      <td>0</td>\n",
       "      <td>2265776466</td>\n",
       "      <td>Sun Jun 21 07:17:12 PDT 2009</td>\n",
       "      <td>NO_QUERY</td>\n",
       "      <td>rkuhonta</td>\n",
       "      <td>Lost at tennis tournament in Park Homes becaus...</td>\n",
       "    </tr>\n",
       "  </tbody>\n",
       "</table>\n",
       "</div>"
      ],
      "text/plain": [
       "   0           1                             2         3               4  \\\n",
       "0  0  1985165238  Sun May 31 16:33:48 PDT 2009  NO_QUERY  nikkistarshine   \n",
       "1  0  2016276574  Wed Jun 03 06:29:43 PDT 2009  NO_QUERY      livewire89   \n",
       "2  0  2250106772  Fri Jun 19 23:43:10 PDT 2009  NO_QUERY           siaan   \n",
       "3  4  2062786014  Sun Jun 07 00:17:35 PDT 2009  NO_QUERY  justinstanford   \n",
       "4  0  2265776466  Sun Jun 21 07:17:12 PDT 2009  NO_QUERY        rkuhonta   \n",
       "\n",
       "                                                   5  \n",
       "0  There is this sweater that I had all of freshm...  \n",
       "1  @mel161278 - hey hun, I'm good hows you? I'm s...  \n",
       "2  @redvers he never cried thru pain but he was c...  \n",
       "3  FireID finally launches in the Apple iPhone Ap...  \n",
       "4  Lost at tennis tournament in Park Homes becaus...  "
      ]
     },
     "execution_count": 4,
     "metadata": {},
     "output_type": "execute_result"
    }
   ],
   "source": [
    "df.head()"
   ]
  },
  {
   "cell_type": "code",
   "execution_count": 5,
   "id": "bdfeed3a-a2fb-4393-9fc5-0ec49bb3bd52",
   "metadata": {},
   "outputs": [
    {
     "data": {
      "text/plain": [
       "(20000, 6)"
      ]
     },
     "execution_count": 5,
     "metadata": {},
     "output_type": "execute_result"
    }
   ],
   "source": [
    "df.shape"
   ]
  },
  {
   "cell_type": "code",
   "execution_count": 6,
   "id": "386e3e7c-fd63-4270-a1ee-19ba7627fd66",
   "metadata": {},
   "outputs": [
    {
     "data": {
      "text/plain": [
       "0\n",
       "0    10000\n",
       "4    10000\n",
       "Name: count, dtype: int64"
      ]
     },
     "execution_count": 6,
     "metadata": {},
     "output_type": "execute_result"
    }
   ],
   "source": [
    "df[0].value_counts().sort_index()"
   ]
  },
  {
   "cell_type": "code",
   "execution_count": 7,
   "id": "a9b22c90-53a7-4d2c-a47c-9fe44483e9ab",
   "metadata": {},
   "outputs": [
    {
     "name": "stdout",
     "output_type": "stream",
     "text": [
      "<class 'pandas.core.frame.DataFrame'>\n",
      "RangeIndex: 20000 entries, 0 to 19999\n",
      "Data columns (total 6 columns):\n",
      " #   Column  Non-Null Count  Dtype \n",
      "---  ------  --------------  ----- \n",
      " 0   0       20000 non-null  int64 \n",
      " 1   1       20000 non-null  int64 \n",
      " 2   2       20000 non-null  object\n",
      " 3   3       20000 non-null  object\n",
      " 4   4       20000 non-null  object\n",
      " 5   5       20000 non-null  object\n",
      "dtypes: int64(2), object(4)\n",
      "memory usage: 937.6+ KB\n"
     ]
    }
   ],
   "source": [
    "df.info()"
   ]
  },
  {
   "cell_type": "code",
   "execution_count": 8,
   "id": "ab1f9257-b619-4b32-9bbc-71e320476af3",
   "metadata": {},
   "outputs": [
    {
     "data": {
      "text/html": [
       "<div>\n",
       "<style scoped>\n",
       "    .dataframe tbody tr th:only-of-type {\n",
       "        vertical-align: middle;\n",
       "    }\n",
       "\n",
       "    .dataframe tbody tr th {\n",
       "        vertical-align: top;\n",
       "    }\n",
       "\n",
       "    .dataframe thead th {\n",
       "        text-align: right;\n",
       "    }\n",
       "</style>\n",
       "<table border=\"1\" class=\"dataframe\">\n",
       "  <thead>\n",
       "    <tr style=\"text-align: right;\">\n",
       "      <th></th>\n",
       "      <th>0</th>\n",
       "      <th>1</th>\n",
       "    </tr>\n",
       "  </thead>\n",
       "  <tbody>\n",
       "    <tr>\n",
       "      <th>count</th>\n",
       "      <td>20000.00000</td>\n",
       "      <td>2.000000e+04</td>\n",
       "    </tr>\n",
       "    <tr>\n",
       "      <th>mean</th>\n",
       "      <td>2.00000</td>\n",
       "      <td>1.999655e+09</td>\n",
       "    </tr>\n",
       "    <tr>\n",
       "      <th>std</th>\n",
       "      <td>2.00005</td>\n",
       "      <td>1.939782e+08</td>\n",
       "    </tr>\n",
       "    <tr>\n",
       "      <th>min</th>\n",
       "      <td>0.00000</td>\n",
       "      <td>1.467816e+09</td>\n",
       "    </tr>\n",
       "    <tr>\n",
       "      <th>25%</th>\n",
       "      <td>0.00000</td>\n",
       "      <td>1.956661e+09</td>\n",
       "    </tr>\n",
       "    <tr>\n",
       "      <th>50%</th>\n",
       "      <td>2.00000</td>\n",
       "      <td>2.002628e+09</td>\n",
       "    </tr>\n",
       "    <tr>\n",
       "      <th>75%</th>\n",
       "      <td>4.00000</td>\n",
       "      <td>2.177751e+09</td>\n",
       "    </tr>\n",
       "    <tr>\n",
       "      <th>max</th>\n",
       "      <td>4.00000</td>\n",
       "      <td>2.329205e+09</td>\n",
       "    </tr>\n",
       "  </tbody>\n",
       "</table>\n",
       "</div>"
      ],
      "text/plain": [
       "                 0             1\n",
       "count  20000.00000  2.000000e+04\n",
       "mean       2.00000  1.999655e+09\n",
       "std        2.00005  1.939782e+08\n",
       "min        0.00000  1.467816e+09\n",
       "25%        0.00000  1.956661e+09\n",
       "50%        2.00000  2.002628e+09\n",
       "75%        4.00000  2.177751e+09\n",
       "max        4.00000  2.329205e+09"
      ]
     },
     "execution_count": 8,
     "metadata": {},
     "output_type": "execute_result"
    }
   ],
   "source": [
    "df.describe()"
   ]
  },
  {
   "cell_type": "markdown",
   "id": "9ae55000-bd5e-429a-872b-d17eecfe037a",
   "metadata": {},
   "source": [
    "## Data Preprocessing and Cleaning"
   ]
  },
  {
   "cell_type": "code",
   "execution_count": 9,
   "id": "c9f5f344-6ad7-4766-98bc-9f3a05219368",
   "metadata": {},
   "outputs": [
    {
     "data": {
      "text/plain": [
       "np.int64(0)"
      ]
     },
     "execution_count": 9,
     "metadata": {},
     "output_type": "execute_result"
    }
   ],
   "source": [
    "df.isna().sum().sum()"
   ]
  },
  {
   "cell_type": "code",
   "execution_count": 10,
   "id": "a2aba7a1-7810-4e09-a1d8-a5511f5e3afc",
   "metadata": {},
   "outputs": [
    {
     "name": "stdout",
     "output_type": "stream",
     "text": [
      "Index([0, 1, 2, 3, 4, 5], dtype='int64')\n"
     ]
    }
   ],
   "source": [
    "print(df.columns)"
   ]
  },
  {
   "cell_type": "code",
   "execution_count": 11,
   "id": "0a94378b-2df7-4309-a8db-11b9e1d086e0",
   "metadata": {},
   "outputs": [
    {
     "data": {
      "text/plain": [
       "'FireID finally launches in the Apple iPhone Appstore! Congrats team  event:http://tinyurl.com/nqzz52'"
      ]
     },
     "execution_count": 11,
     "metadata": {},
     "output_type": "execute_result"
    }
   ],
   "source": [
    "df[5].iloc[3]"
   ]
  },
  {
   "cell_type": "code",
   "execution_count": 12,
   "id": "7ab9dff8-3972-47e3-9e45-b8c5f6f3f275",
   "metadata": {},
   "outputs": [],
   "source": [
    "df.drop(columns=[1, 2, 3, 4], inplace=True)"
   ]
  },
  {
   "cell_type": "code",
   "execution_count": 13,
   "id": "910e6979-d4fb-4c5a-9cf8-a2da231fc816",
   "metadata": {},
   "outputs": [],
   "source": [
    "df.columns = ['target', 'text']"
   ]
  },
  {
   "cell_type": "code",
   "execution_count": 14,
   "id": "dd56fb58-208e-4a45-a0c8-08d40235fe9b",
   "metadata": {},
   "outputs": [
    {
     "data": {
      "text/html": [
       "<div>\n",
       "<style scoped>\n",
       "    .dataframe tbody tr th:only-of-type {\n",
       "        vertical-align: middle;\n",
       "    }\n",
       "\n",
       "    .dataframe tbody tr th {\n",
       "        vertical-align: top;\n",
       "    }\n",
       "\n",
       "    .dataframe thead th {\n",
       "        text-align: right;\n",
       "    }\n",
       "</style>\n",
       "<table border=\"1\" class=\"dataframe\">\n",
       "  <thead>\n",
       "    <tr style=\"text-align: right;\">\n",
       "      <th></th>\n",
       "      <th>target</th>\n",
       "      <th>text</th>\n",
       "    </tr>\n",
       "  </thead>\n",
       "  <tbody>\n",
       "    <tr>\n",
       "      <th>0</th>\n",
       "      <td>0</td>\n",
       "      <td>There is this sweater that I had all of freshm...</td>\n",
       "    </tr>\n",
       "    <tr>\n",
       "      <th>1</th>\n",
       "      <td>0</td>\n",
       "      <td>@mel161278 - hey hun, I'm good hows you? I'm s...</td>\n",
       "    </tr>\n",
       "    <tr>\n",
       "      <th>2</th>\n",
       "      <td>0</td>\n",
       "      <td>@redvers he never cried thru pain but he was c...</td>\n",
       "    </tr>\n",
       "    <tr>\n",
       "      <th>3</th>\n",
       "      <td>4</td>\n",
       "      <td>FireID finally launches in the Apple iPhone Ap...</td>\n",
       "    </tr>\n",
       "    <tr>\n",
       "      <th>4</th>\n",
       "      <td>0</td>\n",
       "      <td>Lost at tennis tournament in Park Homes becaus...</td>\n",
       "    </tr>\n",
       "  </tbody>\n",
       "</table>\n",
       "</div>"
      ],
      "text/plain": [
       "   target                                               text\n",
       "0       0  There is this sweater that I had all of freshm...\n",
       "1       0  @mel161278 - hey hun, I'm good hows you? I'm s...\n",
       "2       0  @redvers he never cried thru pain but he was c...\n",
       "3       4  FireID finally launches in the Apple iPhone Ap...\n",
       "4       0  Lost at tennis tournament in Park Homes becaus..."
      ]
     },
     "execution_count": 14,
     "metadata": {},
     "output_type": "execute_result"
    }
   ],
   "source": [
    "df.head()"
   ]
  },
  {
   "cell_type": "code",
   "execution_count": 15,
   "id": "b6bae655-1a5f-48f2-bd59-fb60e5d1dc02",
   "metadata": {},
   "outputs": [
    {
     "data": {
      "text/plain": [
       "target\n",
       "0    10000\n",
       "4    10000\n",
       "Name: count, dtype: int64"
      ]
     },
     "execution_count": 15,
     "metadata": {},
     "output_type": "execute_result"
    }
   ],
   "source": [
    "df['target'].value_counts()"
   ]
  },
  {
   "cell_type": "code",
   "execution_count": 16,
   "id": "21e93c9c-233f-4600-8f05-d45bb23d8730",
   "metadata": {},
   "outputs": [
    {
     "data": {
      "text/plain": [
       "target\n",
       "0    10000\n",
       "1    10000\n",
       "Name: count, dtype: int64"
      ]
     },
     "execution_count": 16,
     "metadata": {},
     "output_type": "execute_result"
    }
   ],
   "source": [
    "df['target'] = df['target'].map({0: 0, 4: 1})\n",
    "df['target'].value_counts()"
   ]
  },
  {
   "cell_type": "markdown",
   "id": "bde3d3d6-1716-4e5d-8828-3c7d3c8c4cf6",
   "metadata": {},
   "source": [
    "## Clean text function"
   ]
  },
  {
   "cell_type": "code",
   "execution_count": 17,
   "id": "61e4580e-c83c-454c-8b42-401ec2294cec",
   "metadata": {},
   "outputs": [],
   "source": [
    "def clean_text(text):\n",
    "    text = re.sub(r\"http\\S+|www\\S+\", '', text)  # Remove URLs\n",
    "    text = re.sub(r'\\@\\w+|\\#', '', text)        # Remove mentions and hashtags\n",
    "    text = re.sub(r'\\s+', ' ', text).strip()    # Remove extra whitespaces\n",
    "    return text"
   ]
  },
  {
   "cell_type": "code",
   "execution_count": 18,
   "id": "0cc99ec1-268d-44e2-a8c8-ccb51600f05e",
   "metadata": {},
   "outputs": [],
   "source": [
    "df['text'] = df['text'].apply(clean_text)"
   ]
  },
  {
   "cell_type": "code",
   "execution_count": 19,
   "id": "8a46f6fa-6589-4950-b436-79b1e9e3621c",
   "metadata": {},
   "outputs": [
    {
     "data": {
      "text/plain": [
       "'FireID finally launches in the Apple iPhone Appstore! Congrats team event:'"
      ]
     },
     "execution_count": 19,
     "metadata": {},
     "output_type": "execute_result"
    }
   ],
   "source": [
    "df['text'][3]"
   ]
  },
  {
   "cell_type": "code",
   "execution_count": 20,
   "id": "2e45a77a-0154-4fb7-b9c4-0081afe31d3a",
   "metadata": {},
   "outputs": [
    {
     "data": {
      "text/html": [
       "<div>\n",
       "<style scoped>\n",
       "    .dataframe tbody tr th:only-of-type {\n",
       "        vertical-align: middle;\n",
       "    }\n",
       "\n",
       "    .dataframe tbody tr th {\n",
       "        vertical-align: top;\n",
       "    }\n",
       "\n",
       "    .dataframe thead th {\n",
       "        text-align: right;\n",
       "    }\n",
       "</style>\n",
       "<table border=\"1\" class=\"dataframe\">\n",
       "  <thead>\n",
       "    <tr style=\"text-align: right;\">\n",
       "      <th></th>\n",
       "      <th>target</th>\n",
       "      <th>text</th>\n",
       "    </tr>\n",
       "  </thead>\n",
       "  <tbody>\n",
       "    <tr>\n",
       "      <th>0</th>\n",
       "      <td>0</td>\n",
       "      <td>There is this sweater that I had all of freshm...</td>\n",
       "    </tr>\n",
       "    <tr>\n",
       "      <th>1</th>\n",
       "      <td>0</td>\n",
       "      <td>- hey hun, I'm good hows you? I'm still trying...</td>\n",
       "    </tr>\n",
       "    <tr>\n",
       "      <th>2</th>\n",
       "      <td>0</td>\n",
       "      <td>he never cried thru pain but he was crying and...</td>\n",
       "    </tr>\n",
       "    <tr>\n",
       "      <th>3</th>\n",
       "      <td>1</td>\n",
       "      <td>FireID finally launches in the Apple iPhone Ap...</td>\n",
       "    </tr>\n",
       "    <tr>\n",
       "      <th>4</th>\n",
       "      <td>0</td>\n",
       "      <td>Lost at tennis tournament in Park Homes becaus...</td>\n",
       "    </tr>\n",
       "  </tbody>\n",
       "</table>\n",
       "</div>"
      ],
      "text/plain": [
       "   target                                               text\n",
       "0       0  There is this sweater that I had all of freshm...\n",
       "1       0  - hey hun, I'm good hows you? I'm still trying...\n",
       "2       0  he never cried thru pain but he was crying and...\n",
       "3       1  FireID finally launches in the Apple iPhone Ap...\n",
       "4       0  Lost at tennis tournament in Park Homes becaus..."
      ]
     },
     "execution_count": 20,
     "metadata": {},
     "output_type": "execute_result"
    }
   ],
   "source": [
    "df.head()"
   ]
  },
  {
   "cell_type": "code",
   "execution_count": 21,
   "id": "6fd24672-b6e1-4073-9aef-d0a17f4ab9d6",
   "metadata": {},
   "outputs": [],
   "source": [
    "X = df.drop('target', axis=1)\n",
    "y = df['target']"
   ]
  },
  {
   "cell_type": "markdown",
   "id": "2a671446-657d-42b6-b7a5-794b0409b686",
   "metadata": {},
   "source": [
    "## Train/validation/test split"
   ]
  },
  {
   "cell_type": "code",
   "execution_count": 22,
   "id": "5a6588ea-4ab1-4524-b725-e49b38a50bf2",
   "metadata": {},
   "outputs": [],
   "source": [
    "X_train, X_temp, y_train, y_temp = train_test_split(\n",
    "    X, y, test_size=0.4, stratify=y, random_state=42\n",
    ")\n",
    "\n",
    "X_val, X_test, y_val, y_test = train_test_split(\n",
    "    X_temp, y_temp, test_size=0.5, stratify=y_temp, random_state=42\n",
    ")"
   ]
  },
  {
   "cell_type": "markdown",
   "id": "070e0e25-67a3-4e85-8570-654d9628ea04",
   "metadata": {},
   "source": [
    "## Load tokenizer"
   ]
  },
  {
   "cell_type": "code",
   "execution_count": 23,
   "id": "62972228-e49b-4170-87ff-ec51d6f390b2",
   "metadata": {
    "scrolled": true
   },
   "outputs": [],
   "source": [
    "tokenizer = AutoTokenizer.from_pretrained(\"distilbert-base-uncased\")"
   ]
  },
  {
   "cell_type": "markdown",
   "id": "0ea40a61-044c-4024-91fd-c921dbd277cf",
   "metadata": {},
   "source": [
    "## Define custom dataset"
   ]
  },
  {
   "cell_type": "code",
   "execution_count": 24,
   "id": "6e977a7a-1db0-456a-a830-bb911e547449",
   "metadata": {},
   "outputs": [],
   "source": [
    "class SentimentDataset(Dataset):\n",
    "    def __init__(self, texts, labels, tokenizer, max_length=128):\n",
    "        self.texts = texts\n",
    "        self.labels = labels\n",
    "        self.tokenizer = tokenizer\n",
    "        self.max_length = max_length\n",
    "\n",
    "    def __len__(self):\n",
    "        return len(self.texts)\n",
    "\n",
    "    def __getitem__(self, idx):\n",
    "        encoding = self.tokenizer(\n",
    "            self.texts[idx],\n",
    "            truncation=True,\n",
    "            padding='max_length',\n",
    "            max_length=self.max_length,\n",
    "            return_tensors='pt'\n",
    "        )\n",
    "        return {\n",
    "            'input_ids': encoding['input_ids'].squeeze(),\n",
    "            'attention_mask': encoding['attention_mask'].squeeze(),\n",
    "            'labels': torch.tensor(self.labels[idx], dtype=torch.long)\n",
    "        }"
   ]
  },
  {
   "cell_type": "code",
   "execution_count": 25,
   "id": "6486c80d-38ae-4898-82c8-74e73fe6f58d",
   "metadata": {},
   "outputs": [],
   "source": [
    "X_train = X_train.reset_index(drop=True)\n",
    "X_val = X_val.reset_index(drop=True)\n",
    "X_test = X_test.reset_index(drop=True)\n",
    "\n",
    "y_train = y_train.reset_index(drop=True)\n",
    "y_val = y_val.reset_index(drop=True)\n",
    "y_test = y_test.reset_index(drop=True)"
   ]
  },
  {
   "cell_type": "markdown",
   "id": "d1da192a-5460-4a83-bc05-89378a028ab0",
   "metadata": {},
   "source": [
    "## Create datasets and dataloaders"
   ]
  },
  {
   "cell_type": "code",
   "execution_count": 26,
   "id": "c3b581a4-2ea1-4e99-956d-fb290bd449ff",
   "metadata": {},
   "outputs": [],
   "source": [
    "train_dataset = SentimentDataset(X_train['text'], y_train.tolist(), tokenizer)\n",
    "val_dataset = SentimentDataset(X_val['text'], y_val.tolist(), tokenizer)\n",
    "test_dataset = SentimentDataset(X_test['text'], y_test.tolist(), tokenizer)"
   ]
  },
  {
   "cell_type": "code",
   "execution_count": 27,
   "id": "f5328ac6-c3fa-4331-973c-7054ee616467",
   "metadata": {},
   "outputs": [],
   "source": [
    "train_loader = DataLoader(train_dataset, batch_size=32, shuffle=True)\n",
    "val_loader = DataLoader(val_dataset, batch_size=32)\n",
    "test_loader = DataLoader(test_dataset, batch_size=32)"
   ]
  },
  {
   "cell_type": "markdown",
   "id": "db16308b-0b36-48cc-8b1c-e4ae364b7013",
   "metadata": {},
   "source": [
    "## Load model"
   ]
  },
  {
   "cell_type": "code",
   "execution_count": 28,
   "id": "0e84cac0-ae63-49b6-81ad-094842f90925",
   "metadata": {},
   "outputs": [
    {
     "name": "stderr",
     "output_type": "stream",
     "text": [
      "Some weights of DistilBertForSequenceClassification were not initialized from the model checkpoint at distilbert-base-uncased and are newly initialized: ['classifier.bias', 'classifier.weight', 'pre_classifier.bias', 'pre_classifier.weight']\n",
      "You should probably TRAIN this model on a down-stream task to be able to use it for predictions and inference.\n"
     ]
    }
   ],
   "source": [
    "device = torch.device(\"cuda\" if torch.cuda.is_available() else \"cpu\")\n",
    "\n",
    "model = AutoModelForSequenceClassification.from_pretrained(\n",
    "    \"distilbert-base-uncased\",\n",
    "    num_labels=2\n",
    ").to(device)\n",
    "optimizer = optim.Adam(model.parameters(), lr=0.000002)"
   ]
  },
  {
   "cell_type": "markdown",
   "id": "c21ef685-3f00-4d5a-8f04-bc32520ef4e2",
   "metadata": {},
   "source": [
    "## Training and validation loop"
   ]
  },
  {
   "cell_type": "code",
   "execution_count": 29,
   "id": "55f950c7-1c99-413b-a42b-8c6e06c3dac1",
   "metadata": {},
   "outputs": [
    {
     "name": "stdout",
     "output_type": "stream",
     "text": [
      "\n",
      "Epoch 1/7\n",
      "[20/375] Batch Loss: 0.6981 | Running Accuracy: 0.4859\n",
      "[40/375] Batch Loss: 0.6968 | Running Accuracy: 0.5055\n",
      "[60/375] Batch Loss: 0.6810 | Running Accuracy: 0.5245\n",
      "[80/375] Batch Loss: 0.6883 | Running Accuracy: 0.5457\n",
      "[100/375] Batch Loss: 0.6706 | Running Accuracy: 0.5572\n",
      "[120/375] Batch Loss: 0.6680 | Running Accuracy: 0.5711\n",
      "[140/375] Batch Loss: 0.6459 | Running Accuracy: 0.5806\n",
      "[160/375] Batch Loss: 0.6529 | Running Accuracy: 0.5914\n",
      "[180/375] Batch Loss: 0.6266 | Running Accuracy: 0.6033\n",
      "[200/375] Batch Loss: 0.6286 | Running Accuracy: 0.6142\n",
      "[220/375] Batch Loss: 0.5748 | Running Accuracy: 0.6227\n",
      "[240/375] Batch Loss: 0.6570 | Running Accuracy: 0.6302\n",
      "[260/375] Batch Loss: 0.5718 | Running Accuracy: 0.6387\n",
      "[280/375] Batch Loss: 0.5224 | Running Accuracy: 0.6481\n",
      "[300/375] Batch Loss: 0.6015 | Running Accuracy: 0.6551\n",
      "[320/375] Batch Loss: 0.4736 | Running Accuracy: 0.6626\n",
      "[340/375] Batch Loss: 0.5916 | Running Accuracy: 0.6689\n",
      "[360/375] Batch Loss: 0.5206 | Running Accuracy: 0.6734\n",
      "[375/375] Batch Loss: 0.3608 | Running Accuracy: 0.6767\n",
      "\n",
      "[Epoch 1] Train Loss: 0.6142, Accuracy: 0.6767\n",
      "[Epoch 1] Val   Loss: 0.4896, Accuracy: 0.7768\n",
      "✅ Model saved (val_loss improved to 0.4896)\n",
      "\n",
      "Epoch 2/7\n",
      "[20/375] Batch Loss: 0.4950 | Running Accuracy: 0.7922\n",
      "[40/375] Batch Loss: 0.3746 | Running Accuracy: 0.7969\n",
      "[60/375] Batch Loss: 0.4493 | Running Accuracy: 0.7937\n",
      "[80/375] Batch Loss: 0.4731 | Running Accuracy: 0.7852\n",
      "[100/375] Batch Loss: 0.3601 | Running Accuracy: 0.7872\n",
      "[120/375] Batch Loss: 0.4722 | Running Accuracy: 0.7833\n",
      "[140/375] Batch Loss: 0.3515 | Running Accuracy: 0.7828\n",
      "[160/375] Batch Loss: 0.4538 | Running Accuracy: 0.7854\n",
      "[180/375] Batch Loss: 0.4856 | Running Accuracy: 0.7894\n",
      "[200/375] Batch Loss: 0.5457 | Running Accuracy: 0.7898\n",
      "[220/375] Batch Loss: 0.4524 | Running Accuracy: 0.7922\n",
      "[240/375] Batch Loss: 0.6941 | Running Accuracy: 0.7915\n",
      "[260/375] Batch Loss: 0.5329 | Running Accuracy: 0.7927\n",
      "[280/375] Batch Loss: 0.4904 | Running Accuracy: 0.7924\n",
      "[300/375] Batch Loss: 0.4434 | Running Accuracy: 0.7921\n",
      "[320/375] Batch Loss: 0.6195 | Running Accuracy: 0.7919\n",
      "[340/375] Batch Loss: 0.3221 | Running Accuracy: 0.7913\n",
      "[360/375] Batch Loss: 0.3700 | Running Accuracy: 0.7921\n",
      "[375/375] Batch Loss: 0.5868 | Running Accuracy: 0.7920\n",
      "\n",
      "[Epoch 2] Train Loss: 0.4579, Accuracy: 0.7920\n",
      "[Epoch 2] Val   Loss: 0.4512, Accuracy: 0.7900\n",
      "✅ Model saved (val_loss improved to 0.4512)\n",
      "\n",
      "Epoch 3/7\n",
      "[20/375] Batch Loss: 0.3026 | Running Accuracy: 0.8125\n",
      "[40/375] Batch Loss: 0.2842 | Running Accuracy: 0.8148\n",
      "[60/375] Batch Loss: 0.5006 | Running Accuracy: 0.8135\n",
      "[80/375] Batch Loss: 0.5188 | Running Accuracy: 0.8117\n",
      "[100/375] Batch Loss: 0.3865 | Running Accuracy: 0.8159\n",
      "[120/375] Batch Loss: 0.3661 | Running Accuracy: 0.8159\n",
      "[140/375] Batch Loss: 0.4148 | Running Accuracy: 0.8165\n",
      "[160/375] Batch Loss: 0.5710 | Running Accuracy: 0.8168\n",
      "[180/375] Batch Loss: 0.2920 | Running Accuracy: 0.8132\n",
      "[200/375] Batch Loss: 0.4121 | Running Accuracy: 0.8106\n",
      "[220/375] Batch Loss: 0.4098 | Running Accuracy: 0.8111\n",
      "[240/375] Batch Loss: 0.3886 | Running Accuracy: 0.8115\n",
      "[260/375] Batch Loss: 0.4932 | Running Accuracy: 0.8118\n",
      "[280/375] Batch Loss: 0.3138 | Running Accuracy: 0.8137\n",
      "[300/375] Batch Loss: 0.3981 | Running Accuracy: 0.8140\n",
      "[320/375] Batch Loss: 0.4412 | Running Accuracy: 0.8145\n",
      "[340/375] Batch Loss: 0.3016 | Running Accuracy: 0.8146\n",
      "[360/375] Batch Loss: 0.5465 | Running Accuracy: 0.8154\n",
      "[375/375] Batch Loss: 0.4518 | Running Accuracy: 0.8146\n",
      "\n",
      "[Epoch 3] Train Loss: 0.4174, Accuracy: 0.8146\n",
      "[Epoch 3] Val   Loss: 0.4378, Accuracy: 0.7997\n",
      "✅ Model saved (val_loss improved to 0.4378)\n",
      "\n",
      "Epoch 4/7\n",
      "[20/375] Batch Loss: 0.4846 | Running Accuracy: 0.8406\n",
      "[40/375] Batch Loss: 0.4625 | Running Accuracy: 0.8422\n",
      "[60/375] Batch Loss: 0.2512 | Running Accuracy: 0.8339\n",
      "[80/375] Batch Loss: 0.3972 | Running Accuracy: 0.8344\n",
      "[100/375] Batch Loss: 0.3576 | Running Accuracy: 0.8347\n",
      "[120/375] Batch Loss: 0.3544 | Running Accuracy: 0.8336\n",
      "[140/375] Batch Loss: 0.4048 | Running Accuracy: 0.8306\n",
      "[160/375] Batch Loss: 0.4221 | Running Accuracy: 0.8268\n",
      "[180/375] Batch Loss: 0.3729 | Running Accuracy: 0.8281\n",
      "[200/375] Batch Loss: 0.4659 | Running Accuracy: 0.8294\n",
      "[220/375] Batch Loss: 0.3200 | Running Accuracy: 0.8291\n",
      "[240/375] Batch Loss: 0.2441 | Running Accuracy: 0.8288\n",
      "[260/375] Batch Loss: 0.4112 | Running Accuracy: 0.8279\n",
      "[280/375] Batch Loss: 0.4936 | Running Accuracy: 0.8276\n",
      "[300/375] Batch Loss: 0.4464 | Running Accuracy: 0.8286\n",
      "[320/375] Batch Loss: 0.3853 | Running Accuracy: 0.8285\n",
      "[340/375] Batch Loss: 0.2309 | Running Accuracy: 0.8300\n",
      "[360/375] Batch Loss: 0.3398 | Running Accuracy: 0.8297\n",
      "[375/375] Batch Loss: 0.1927 | Running Accuracy: 0.8300\n",
      "\n",
      "[Epoch 4] Train Loss: 0.3898, Accuracy: 0.8300\n",
      "[Epoch 4] Val   Loss: 0.4329, Accuracy: 0.8025\n",
      "✅ Model saved (val_loss improved to 0.4329)\n",
      "\n",
      "Epoch 5/7\n",
      "[20/375] Batch Loss: 0.5355 | Running Accuracy: 0.8500\n",
      "[40/375] Batch Loss: 0.4276 | Running Accuracy: 0.8656\n",
      "[60/375] Batch Loss: 0.3193 | Running Accuracy: 0.8599\n",
      "[80/375] Batch Loss: 0.4325 | Running Accuracy: 0.8520\n",
      "[100/375] Batch Loss: 0.3418 | Running Accuracy: 0.8512\n",
      "[120/375] Batch Loss: 0.2124 | Running Accuracy: 0.8497\n",
      "[140/375] Batch Loss: 0.2278 | Running Accuracy: 0.8480\n",
      "[160/375] Batch Loss: 0.3938 | Running Accuracy: 0.8469\n",
      "[180/375] Batch Loss: 0.3913 | Running Accuracy: 0.8448\n",
      "[200/375] Batch Loss: 0.3411 | Running Accuracy: 0.8452\n",
      "[220/375] Batch Loss: 0.2788 | Running Accuracy: 0.8433\n",
      "[240/375] Batch Loss: 0.2374 | Running Accuracy: 0.8435\n",
      "[260/375] Batch Loss: 0.2818 | Running Accuracy: 0.8438\n",
      "[280/375] Batch Loss: 0.3961 | Running Accuracy: 0.8433\n",
      "[300/375] Batch Loss: 0.4706 | Running Accuracy: 0.8424\n",
      "[320/375] Batch Loss: 0.2103 | Running Accuracy: 0.8423\n",
      "[340/375] Batch Loss: 0.2188 | Running Accuracy: 0.8425\n",
      "[360/375] Batch Loss: 0.3362 | Running Accuracy: 0.8411\n",
      "[375/375] Batch Loss: 0.4667 | Running Accuracy: 0.8404\n",
      "\n",
      "[Epoch 5] Train Loss: 0.3668, Accuracy: 0.8404\n",
      "[Epoch 5] Val   Loss: 0.4294, Accuracy: 0.8055\n",
      "✅ Model saved (val_loss improved to 0.4294)\n",
      "\n",
      "Epoch 6/7\n",
      "[20/375] Batch Loss: 0.1877 | Running Accuracy: 0.8750\n",
      "[40/375] Batch Loss: 0.2829 | Running Accuracy: 0.8727\n",
      "[60/375] Batch Loss: 0.4702 | Running Accuracy: 0.8672\n",
      "[80/375] Batch Loss: 0.4383 | Running Accuracy: 0.8609\n",
      "[100/375] Batch Loss: 0.2864 | Running Accuracy: 0.8569\n",
      "[120/375] Batch Loss: 0.2197 | Running Accuracy: 0.8576\n",
      "[140/375] Batch Loss: 0.2040 | Running Accuracy: 0.8540\n",
      "[160/375] Batch Loss: 0.3512 | Running Accuracy: 0.8527\n",
      "[180/375] Batch Loss: 0.2200 | Running Accuracy: 0.8530\n",
      "[200/375] Batch Loss: 0.2901 | Running Accuracy: 0.8558\n",
      "[220/375] Batch Loss: 0.3379 | Running Accuracy: 0.8548\n",
      "[240/375] Batch Loss: 0.3700 | Running Accuracy: 0.8544\n",
      "[260/375] Batch Loss: 0.2783 | Running Accuracy: 0.8560\n",
      "[280/375] Batch Loss: 0.3838 | Running Accuracy: 0.8567\n",
      "[300/375] Batch Loss: 0.2707 | Running Accuracy: 0.8579\n",
      "[320/375] Batch Loss: 0.3257 | Running Accuracy: 0.8566\n",
      "[340/375] Batch Loss: 0.3050 | Running Accuracy: 0.8562\n",
      "[360/375] Batch Loss: 0.3307 | Running Accuracy: 0.8544\n",
      "[375/375] Batch Loss: 0.2880 | Running Accuracy: 0.8544\n",
      "\n",
      "[Epoch 6] Train Loss: 0.3466, Accuracy: 0.8544\n",
      "[Epoch 6] Val   Loss: 0.4321, Accuracy: 0.8045\n",
      "⏳ No improvement in val_loss for 1 epoch(s)\n",
      "⛔ Early stopping triggered after 1 epochs without improvement.\n"
     ]
    }
   ],
   "source": [
    "train_losses = []\n",
    "val_losses = []\n",
    "train_accuracies = []\n",
    "val_accuracies = []\n",
    "\n",
    "best_val_loss = float('inf')\n",
    "patience = 1\n",
    "counter = 0\n",
    "best_model_path = '../my_model/'\n",
    "\n",
    "epochs = 7\n",
    "    \n",
    "for epoch in range(epochs):\n",
    "    model.train()\n",
    "    total_loss = 0\n",
    "    correct = 0\n",
    "    total = 0\n",
    "    total_steps = len(train_loader)\n",
    "\n",
    "    print(f\"\\nEpoch {epoch + 1}/{epochs}\")\n",
    "\n",
    "    for step, batch in enumerate(train_loader):\n",
    "        input_ids = batch['input_ids'].to(device)\n",
    "        attention_mask = batch['attention_mask'].to(device)\n",
    "        labels = batch['labels'].to(device)\n",
    "\n",
    "        optimizer.zero_grad()\n",
    "        outputs = model(input_ids=input_ids, attention_mask=attention_mask, labels=labels)\n",
    "        loss = outputs.loss\n",
    "        loss.backward()\n",
    "        optimizer.step()\n",
    "\n",
    "        total_loss += loss.item()\n",
    "        logits = outputs.logits\n",
    "        preds = torch.argmax(logits, dim=1)\n",
    "        correct += (preds == labels).sum().item()\n",
    "        total += labels.size(0)\n",
    "\n",
    "        # Training Progress (per batch)\n",
    "        if (step + 1) % 20 == 0 or (step + 1) == total_steps:\n",
    "            print(f\"[{step + 1}/{total_steps}] Batch Loss: {loss.item():.4f} | Running Accuracy: {correct / total:.4f}\")\n",
    "\n",
    "         # Train metrics for epoch\n",
    "    avg_train_loss = total_loss / total_steps\n",
    "    train_accuracy = correct / total\n",
    "    train_losses.append(avg_train_loss)\n",
    "    train_accuracies.append(train_accuracy)\n",
    "\n",
    "    # Validation\n",
    "    model.eval()\n",
    "    val_loss = 0\n",
    "    val_correct = 0\n",
    "    val_total = 0\n",
    "\n",
    "\n",
    "    with torch.no_grad():\n",
    "        for batch in val_loader:\n",
    "            inputs = batch['input_ids'].to(device)\n",
    "            attention_mask = batch['attention_mask'].to(device)\n",
    "            labels = batch['labels'].to(device)\n",
    "\n",
    "            outputs = model(input_ids=inputs, attention_mask=attention_mask, labels=labels)\n",
    "            loss = outputs.loss\n",
    "            logits = outputs.logits\n",
    "\n",
    "            val_loss += loss.item()\n",
    "            preds = torch.argmax(logits, dim=1)\n",
    "            val_correct += (preds == labels).sum().item()\n",
    "            val_total += labels.size(0)\n",
    "\n",
    "    avg_val_loss = val_loss / len(val_loader)\n",
    "    val_accuracy = val_correct / val_total\n",
    "    val_losses.append(avg_val_loss)\n",
    "    val_accuracies.append(val_accuracy)\n",
    "\n",
    "    print(f\"\\n[Epoch {epoch + 1}] Train Loss: {avg_train_loss:.4f}, Accuracy: {train_accuracy:.4f}\")\n",
    "    print(f\"[Epoch {epoch + 1}] Val   Loss: {avg_val_loss:.4f}, Accuracy: {val_accuracy:.4f}\")\n",
    "\n",
    "    # Saving the best model\n",
    "    if avg_val_loss < best_val_loss:\n",
    "        best_val_loss = avg_val_loss\n",
    "        model.save_pretrained(best_model_path)\n",
    "        print(f\"✅ Model saved (val_loss improved to {best_val_loss:.4f})\")\n",
    "        counter = 0\n",
    "    else:\n",
    "        counter += 1\n",
    "        print(f\"⏳ No improvement in val_loss for {counter} epoch(s)\")\n",
    "\n",
    "        if counter >= patience:\n",
    "            print(f\"⛔ Early stopping triggered after {patience} epochs without improvement.\")\n",
    "            break"
   ]
  },
  {
   "cell_type": "markdown",
   "id": "9ac75fd7-6970-4b68-a67b-8accb1616d76",
   "metadata": {},
   "source": [
    "## 📈 Model Performance during Training"
   ]
  },
  {
   "cell_type": "code",
   "execution_count": 30,
   "id": "838fd2f4-cec7-4dc9-9b66-5e08a9f93db7",
   "metadata": {},
   "outputs": [
    {
     "data": {
      "image/png": "[encoded data removed]",
      "text/plain": [
       "<Figure size 1200x600 with 2 Axes>"
      ]
     },
     "metadata": {},
     "output_type": "display_data"
    }
   ],
   "source": [
    "plt.figure(figsize=(12, 6))\n",
    "\n",
    "# Loss\n",
    "plt.subplot(1, 2, 1)\n",
    "plt.plot(train_losses, label='Train Loss')\n",
    "plt.plot(val_losses, label='Val Loss')\n",
    "plt.title('Loss per Epoch')\n",
    "plt.xlabel('Epoch')\n",
    "plt.ylabel('Loss')\n",
    "plt.legend()\n",
    "\n",
    "# Accuracy\n",
    "plt.subplot(1, 2, 2)\n",
    "plt.plot(train_accuracies, label='Train Accuracy')\n",
    "plt.plot(val_accuracies, label='Val Accuracy')\n",
    "plt.title('Accuracy per Epoch')\n",
    "plt.xlabel('Epoch')\n",
    "plt.ylabel('Accuracy')\n",
    "plt.legend()\n",
    "\n",
    "plt.tight_layout()\n",
    "plt.show()"
   ]
  },
  {
   "cell_type": "code",
   "execution_count": 32,
   "id": "144486fe-7a61-4a8a-93b0-5b89a3135062",
   "metadata": {},
   "outputs": [
    {
     "name": "stdout",
     "output_type": "stream",
     "text": [
      "\n",
      "Test Loss: 0.4321\n",
      "Test Accuracy: 0.8070\n",
      "Precision: 0.7880\n",
      "Recall:    0.8400\n",
      "F1 Score:  0.8132\n",
      "ROC AUC:   0.8910\n"
     ]
    }
   ],
   "source": [
    "model.eval()\n",
    "test_loss = 0\n",
    "test_correct = 0\n",
    "test_total = 0\n",
    "\n",
    "all_preds = []\n",
    "all_labels = []\n",
    "all_probs = []\n",
    "\n",
    "# Load the best model before testing\n",
    "model.from_pretrained(best_model_path)\n",
    "model.eval()\n",
    "\n",
    "with torch.no_grad():\n",
    "    for batch in test_loader:\n",
    "        input_ids = batch['input_ids'].to(device)\n",
    "        attention_mask = batch['attention_mask'].to(device)\n",
    "        labels = batch['labels'].to(device)\n",
    "\n",
    "        outputs = model(input_ids=input_ids, attention_mask=attention_mask, labels=labels)\n",
    "        loss = outputs.loss\n",
    "        logits = outputs.logits\n",
    "\n",
    "        test_loss += loss.item()\n",
    "        probs = torch.softmax(logits, dim=1)\n",
    "        preds = torch.argmax(probs, dim=1)\n",
    "\n",
    "        all_preds.extend(preds.cpu().numpy())\n",
    "        all_labels.extend(labels.cpu().numpy())\n",
    "        all_probs.extend(probs[:, 1].cpu().numpy())\n",
    "\n",
    "        test_correct += (preds == labels).sum().item()\n",
    "        test_total += labels.size(0)\n",
    "\n",
    "avg_test_loss = test_loss / len(test_loader)\n",
    "test_accuracy = test_correct / test_total\n",
    "\n",
    "precision = precision_score(all_labels, all_preds, average='binary')\n",
    "recall = recall_score(all_labels, all_preds, average='binary')\n",
    "f1 = f1_score(all_labels, all_preds, average='binary')\n",
    "roc_auc = roc_auc_score(all_labels, all_probs)\n",
    "\n",
    "\n",
    "print(f\"\\nTest Loss: {avg_test_loss:.4f}\")\n",
    "print(f\"Test Accuracy: {test_accuracy:.4f}\")\n",
    "print(f\"Precision: {precision:.4f}\")\n",
    "print(f\"Recall:    {recall:.4f}\")\n",
    "print(f\"F1 Score:  {f1:.4f}\")\n",
    "print(f\"ROC AUC:   {roc_auc:.4f}\")"
   ]
  },
  {
   "cell_type": "markdown",
   "id": "8177b441-37c5-4a83-999b-0cccd505c295",
   "metadata": {},
   "source": [
    "## Confusion Matrix"
   ]
  },
  {
   "cell_type": "code",
   "execution_count": 33,
   "id": "fe763c82-a383-4963-8fa4-d1cf594a362a",
   "metadata": {},
   "outputs": [
    {
     "data": {
      "image/png": "[encoded data removed]",
      "text/plain": [
       "<Figure size 600x500 with 2 Axes>"
      ]
     },
     "metadata": {},
     "output_type": "display_data"
    }
   ],
   "source": [
    "cm = confusion_matrix(all_labels, all_preds)\n",
    "\n",
    "plt.figure(figsize=(6, 5))\n",
    "sns.heatmap(cm, annot=True, fmt='d', cmap='Blues')\n",
    "plt.xlabel('Predicted Labels')\n",
    "plt.ylabel('True Labels')\n",
    "plt.title('Confusion Matrix')\n",
    "plt.tight_layout()\n",
    "plt.show()"
   ]
  },
  {
   "cell_type": "code",
   "execution_count": 34,
   "id": "d8141bc3-3f06-4c17-869d-9ae79ff2fb67",
   "metadata": {},
   "outputs": [],
   "source": [
    "def predict_sentiment(text):\n",
    "    model.eval()\n",
    "\n",
    "\n",
    "    def clean_text(text):\n",
    "        text = re.sub(r\"http\\S+|www\\S+\", '', text)\n",
    "        text = re.sub(r'\\@\\w+|\\#', '', text)\n",
    "        text = re.sub(r'\\s+', ' ', text).strip()\n",
    "        return text\n",
    "\n",
    "    cleaned_text = clean_text(text)\n",
    "\n",
    "\n",
    "    inputs = tokenizer(cleaned_text, return_tensors='pt', truncation=True, padding='max_length', max_length=128)\n",
    "    inputs = {key: val.to(device) for key, val in inputs.items()}\n",
    "\n",
    "\n",
    "    with torch.no_grad():\n",
    "        outputs = model(**inputs)\n",
    "        logits = outputs.logits\n",
    "        predicted_class = torch.argmax(logits, dim=1).item()\n",
    "        confidence = F.softmax(logits, dim=1)[0][predicted_class].item()\n",
    "\n",
    "    label = \"Positive 😊\" if predicted_class == 1 else \"Negative 😠\"\n",
    "    return label, confidence"
   ]
  },
  {
   "cell_type": "code",
   "execution_count": 35,
   "id": "cdcb1b09-bdcb-4488-a721-e70cde5b0429",
   "metadata": {},
   "outputs": [
    {
     "name": "stdout",
     "output_type": "stream",
     "text": [
      "Prediction: Positive 😊 (Confidence: 0.97)\n"
     ]
    }
   ],
   "source": [
    "text = \"on this week i'll cook cake\"\n",
    "label, conf = predict_sentiment(text)\n",
    "print(f\"Prediction: {label} (Confidence: {conf:.2f})\")"
   ]
  }
 ],
 "metadata": {
  "kernelspec": {
   "display_name": "Python (venv_pytorch)",
   "language": "python",
   "name": "venv_pytorch"
  },
  "language_info": {
   "codemirror_mode": {
    "name": "ipython",
    "version": 3
   },
   "file_extension": ".py",
   "mimetype": "text/x-python",
   "name": "python",
   "nbconvert_exporter": "python",
   "pygments_lexer": "ipython3",
   "version": "3.13.2"
  }
 },
 "nbformat": 4,
 "nbformat_minor": 5
}
